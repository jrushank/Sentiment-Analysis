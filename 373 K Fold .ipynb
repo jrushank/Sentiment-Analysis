{
 "cells": [
  {
   "cell_type": "code",
   "execution_count": 1,
   "metadata": {},
   "outputs": [],
   "source": [
    "# K Fold Cross Validation Implementation"
   ]
  },
  {
   "cell_type": "code",
   "execution_count": 2,
   "metadata": {},
   "outputs": [],
   "source": [
    "# For this resampling method we will  split the data into \n",
    "# k groups. The algorithm is then trained and evaluated \n",
    "# k times and performance is summarized by taking the \n",
    "# mean performance score"
   ]
  },
  {
   "cell_type": "code",
   "execution_count": 3,
   "metadata": {},
   "outputs": [],
   "source": [
    "# This is done by first training the data on the k-1 groups\n",
    "# and evaluating it on the kth group.\n",
    "# Firstly, we will like to split the dataset into k groups"
   ]
  },
  {
   "cell_type": "code",
   "execution_count": null,
   "metadata": {},
   "outputs": [],
   "source": [
    "from random import seed\n",
    "from random import randrange\n",
    "\n",
    "def k_splits (dataset, folds):\n",
    "    ds_split = []\n",
    "    ds_copy = list(dataset)\n",
    "    fold_size = int(len(dataset)/folds)\n",
    "    \n",
    "    for i in range(folds):\n",
    "        fold = []\n",
    "        while len(fold) < fold_size:\n",
    "            idx = randrange(len(ds_copy))\n",
    "            fold.append(ds_copy.pop(idx))\n",
    "        ds_split.append(fold)\n",
    "    \n",
    "    return ds_split"
   ]
  }
 ],
 "metadata": {
  "kernelspec": {
   "display_name": "Python 2",
   "language": "python",
   "name": "python2"
  },
  "language_info": {
   "codemirror_mode": {
    "name": "ipython",
    "version": 2
   },
   "file_extension": ".py",
   "mimetype": "text/x-python",
   "name": "python",
   "nbconvert_exporter": "python",
   "pygments_lexer": "ipython2",
   "version": "2.7.16"
  }
 },
 "nbformat": 4,
 "nbformat_minor": 2
}
